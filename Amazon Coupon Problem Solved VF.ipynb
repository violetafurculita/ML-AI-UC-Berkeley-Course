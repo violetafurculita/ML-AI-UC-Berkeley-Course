{
 "cells": [
  {
   "cell_type": "markdown",
   "metadata": {},
   "source": [
    "### Will a Customer Accept the Coupon?\n",
    "\n",
    "**Context**\n",
    "\n",
    "Imagine driving through town and a coupon is delivered to your cell phone for a restaraunt near where you are driving. Would you accept that coupon and take a short detour to the restaraunt? Would you accept the coupon but use it on a sunbsequent trip? Would you ignore the coupon entirely? What if the coupon was for a bar instead of a restaraunt? What about a coffee house? Would you accept a bar coupon with a minor passenger in the car? What about if it was just you and your partner in the car? Would weather impact the rate of acceptance? What about the time of day?\n",
    "\n",
    "Obviously, proximity to the business is a factor on whether the coupon is delivered to the driver or not, but what are the factors that determine whether a driver accepts the coupon once it is delivered to them? How would you determine whether a driver is likely to accept a coupon?\n",
    "\n",
    "**Overview**\n",
    "\n",
    "The goal of this project is to use what you know about visualizations and probability distributions to distinguish between customers who accepted a driving coupon versus those that did not.\n",
    "\n",
    "**Data**\n",
    "\n",
    "This data comes to us from the UCI Machine Learning repository and was collected via a survey on Amazon Mechanical Turk. The survey describes different driving scenarios including the destination, current time, weather, passenger, etc., and then ask the person whether he will accept the coupon if he is the driver. Answers that the user will drive there ‘right away’ or ‘later before the coupon expires’ are labeled as ‘Y = 1’ and answers ‘no, I do not want the coupon’ are labeled as ‘Y = 0’.  There are five different types of coupons -- less expensive restaurants (under \\\\$20), coffee houses, carry out & take away, bar, and more expensive restaurants (\\\\$20 - \\\\$50). "
   ]
  },
  {
   "cell_type": "markdown",
   "metadata": {},
   "source": [
    "**Deliverables**\n",
    "\n",
    "Your final product should be a brief report that highlights the differences between customers who did and did not accept the coupons.  To explore the data you will utilize your knowledge of plotting, statistical summaries, and visualization using Python. You will publish your findings in a public facing github repository as your first portfolio piece. \n",
    "\n",
    "\n",
    "\n"
   ]
  },
  {
   "cell_type": "markdown",
   "metadata": {},
   "source": [
    "### Data Description\n",
    "Keep in mind that these values mentioned below are average values.\n",
    "\n",
    "The attributes of this data set include:\n",
    "1. User attributes\n",
    "    -  Gender: male, female\n",
    "    -  Age: below 21, 21 to 25, 26 to 30, etc.\n",
    "    -  Marital Status: single, married partner, unmarried partner, or widowed\n",
    "    -  Number of children: 0, 1, or more than 1\n",
    "    -  Education: high school, bachelors degree, associates degree, or graduate degree\n",
    "    -  Occupation: architecture & engineering, business & financial, etc.\n",
    "    -  Annual income: less than \\\\$12500, \\\\$12500 - \\\\$24999, \\\\$25000 - \\\\$37499, etc.\n",
    "    -  Number of times that he/she goes to a bar: 0, less than 1, 1 to 3, 4 to 8 or greater than 8\n",
    "    -  Number of times that he/she buys takeaway food: 0, less than 1, 1 to 3, 4 to 8 or greater\n",
    "    than 8\n",
    "    -  Number of times that he/she goes to a coffee house: 0, less than 1, 1 to 3, 4 to 8 or\n",
    "    greater than 8\n",
    "    -  Number of times that he/she eats at a restaurant with average expense less than \\\\$20 per\n",
    "    person: 0, less than 1, 1 to 3, 4 to 8 or greater than 8\n",
    "    -  Number of times that he/she goes to a bar: 0, less than 1, 1 to 3, 4 to 8 or greater than 8\n",
    "    \n",
    "\n",
    "2. Contextual attributes\n",
    "    - Driving destination: home, work, or no urgent destination\n",
    "    - Location of user, coupon and destination: we provide a map to show the geographical\n",
    "    location of the user, destination, and the venue, and we mark the distance between each\n",
    "    two places with time of driving. The user can see whether the venue is in the same\n",
    "    direction as the destination.\n",
    "    - Weather: sunny, rainy, or snowy\n",
    "    - Temperature: 30F, 55F, or 80F\n",
    "    - Time: 10AM, 2PM, or 6PM\n",
    "    - Passenger: alone, partner, kid(s), or friend(s)\n",
    "\n",
    "\n",
    "3. Coupon attributes\n",
    "    - time before it expires: 2 hours or one day"
   ]
  },
  {
   "cell_type": "code",
   "execution_count": 1,
   "metadata": {},
   "outputs": [],
   "source": [
    "import matplotlib.pyplot as plt\n",
    "import seaborn as sns\n",
    "import pandas as pd\n",
    "import numpy as np"
   ]
  },
  {
   "cell_type": "markdown",
   "metadata": {},
   "source": [
    "### Problems\n",
    "\n",
    "Use the prompts below to get started with your data analysis.  \n",
    "\n",
    "1. Read in the `coupons.csv` file.\n",
    "\n",
    "\n"
   ]
  },
  {
   "cell_type": "code",
   "execution_count": 2,
   "metadata": {},
   "outputs": [],
   "source": [
    "df = pd.read_csv('coupons.csv')"
   ]
  },
  {
   "cell_type": "code",
   "execution_count": 3,
   "metadata": {
    "scrolled": true
   },
   "outputs": [
    {
     "data": {
      "text/html": [
       "<div>\n",
       "<style scoped>\n",
       "    .dataframe tbody tr th:only-of-type {\n",
       "        vertical-align: middle;\n",
       "    }\n",
       "\n",
       "    .dataframe tbody tr th {\n",
       "        vertical-align: top;\n",
       "    }\n",
       "\n",
       "    .dataframe thead th {\n",
       "        text-align: right;\n",
       "    }\n",
       "</style>\n",
       "<table border=\"1\" class=\"dataframe\">\n",
       "  <thead>\n",
       "    <tr style=\"text-align: right;\">\n",
       "      <th></th>\n",
       "      <th>destination</th>\n",
       "      <th>passanger</th>\n",
       "      <th>weather</th>\n",
       "      <th>temperature</th>\n",
       "      <th>time</th>\n",
       "      <th>coupon</th>\n",
       "      <th>expiration</th>\n",
       "      <th>gender</th>\n",
       "      <th>age</th>\n",
       "      <th>maritalStatus</th>\n",
       "      <th>...</th>\n",
       "      <th>CoffeeHouse</th>\n",
       "      <th>CarryAway</th>\n",
       "      <th>RestaurantLessThan20</th>\n",
       "      <th>Restaurant20To50</th>\n",
       "      <th>toCoupon_GEQ5min</th>\n",
       "      <th>toCoupon_GEQ15min</th>\n",
       "      <th>toCoupon_GEQ25min</th>\n",
       "      <th>direction_same</th>\n",
       "      <th>direction_opp</th>\n",
       "      <th>Y</th>\n",
       "    </tr>\n",
       "  </thead>\n",
       "  <tbody>\n",
       "    <tr>\n",
       "      <th>0</th>\n",
       "      <td>No Urgent Place</td>\n",
       "      <td>Alone</td>\n",
       "      <td>Sunny</td>\n",
       "      <td>55</td>\n",
       "      <td>2PM</td>\n",
       "      <td>Restaurant(&lt;20)</td>\n",
       "      <td>1d</td>\n",
       "      <td>Female</td>\n",
       "      <td>21</td>\n",
       "      <td>Unmarried partner</td>\n",
       "      <td>...</td>\n",
       "      <td>never</td>\n",
       "      <td>NaN</td>\n",
       "      <td>4~8</td>\n",
       "      <td>1~3</td>\n",
       "      <td>1</td>\n",
       "      <td>0</td>\n",
       "      <td>0</td>\n",
       "      <td>0</td>\n",
       "      <td>1</td>\n",
       "      <td>1</td>\n",
       "    </tr>\n",
       "    <tr>\n",
       "      <th>1</th>\n",
       "      <td>No Urgent Place</td>\n",
       "      <td>Friend(s)</td>\n",
       "      <td>Sunny</td>\n",
       "      <td>80</td>\n",
       "      <td>10AM</td>\n",
       "      <td>Coffee House</td>\n",
       "      <td>2h</td>\n",
       "      <td>Female</td>\n",
       "      <td>21</td>\n",
       "      <td>Unmarried partner</td>\n",
       "      <td>...</td>\n",
       "      <td>never</td>\n",
       "      <td>NaN</td>\n",
       "      <td>4~8</td>\n",
       "      <td>1~3</td>\n",
       "      <td>1</td>\n",
       "      <td>0</td>\n",
       "      <td>0</td>\n",
       "      <td>0</td>\n",
       "      <td>1</td>\n",
       "      <td>0</td>\n",
       "    </tr>\n",
       "    <tr>\n",
       "      <th>2</th>\n",
       "      <td>No Urgent Place</td>\n",
       "      <td>Friend(s)</td>\n",
       "      <td>Sunny</td>\n",
       "      <td>80</td>\n",
       "      <td>10AM</td>\n",
       "      <td>Carry out &amp; Take away</td>\n",
       "      <td>2h</td>\n",
       "      <td>Female</td>\n",
       "      <td>21</td>\n",
       "      <td>Unmarried partner</td>\n",
       "      <td>...</td>\n",
       "      <td>never</td>\n",
       "      <td>NaN</td>\n",
       "      <td>4~8</td>\n",
       "      <td>1~3</td>\n",
       "      <td>1</td>\n",
       "      <td>1</td>\n",
       "      <td>0</td>\n",
       "      <td>0</td>\n",
       "      <td>1</td>\n",
       "      <td>1</td>\n",
       "    </tr>\n",
       "    <tr>\n",
       "      <th>3</th>\n",
       "      <td>No Urgent Place</td>\n",
       "      <td>Friend(s)</td>\n",
       "      <td>Sunny</td>\n",
       "      <td>80</td>\n",
       "      <td>2PM</td>\n",
       "      <td>Coffee House</td>\n",
       "      <td>2h</td>\n",
       "      <td>Female</td>\n",
       "      <td>21</td>\n",
       "      <td>Unmarried partner</td>\n",
       "      <td>...</td>\n",
       "      <td>never</td>\n",
       "      <td>NaN</td>\n",
       "      <td>4~8</td>\n",
       "      <td>1~3</td>\n",
       "      <td>1</td>\n",
       "      <td>1</td>\n",
       "      <td>0</td>\n",
       "      <td>0</td>\n",
       "      <td>1</td>\n",
       "      <td>0</td>\n",
       "    </tr>\n",
       "    <tr>\n",
       "      <th>4</th>\n",
       "      <td>No Urgent Place</td>\n",
       "      <td>Friend(s)</td>\n",
       "      <td>Sunny</td>\n",
       "      <td>80</td>\n",
       "      <td>2PM</td>\n",
       "      <td>Coffee House</td>\n",
       "      <td>1d</td>\n",
       "      <td>Female</td>\n",
       "      <td>21</td>\n",
       "      <td>Unmarried partner</td>\n",
       "      <td>...</td>\n",
       "      <td>never</td>\n",
       "      <td>NaN</td>\n",
       "      <td>4~8</td>\n",
       "      <td>1~3</td>\n",
       "      <td>1</td>\n",
       "      <td>1</td>\n",
       "      <td>0</td>\n",
       "      <td>0</td>\n",
       "      <td>1</td>\n",
       "      <td>0</td>\n",
       "    </tr>\n",
       "  </tbody>\n",
       "</table>\n",
       "<p>5 rows × 26 columns</p>\n",
       "</div>"
      ],
      "text/plain": [
       "       destination  passanger weather  temperature  time  \\\n",
       "0  No Urgent Place      Alone   Sunny           55   2PM   \n",
       "1  No Urgent Place  Friend(s)   Sunny           80  10AM   \n",
       "2  No Urgent Place  Friend(s)   Sunny           80  10AM   \n",
       "3  No Urgent Place  Friend(s)   Sunny           80   2PM   \n",
       "4  No Urgent Place  Friend(s)   Sunny           80   2PM   \n",
       "\n",
       "                  coupon expiration  gender age      maritalStatus  ...  \\\n",
       "0        Restaurant(<20)         1d  Female  21  Unmarried partner  ...   \n",
       "1           Coffee House         2h  Female  21  Unmarried partner  ...   \n",
       "2  Carry out & Take away         2h  Female  21  Unmarried partner  ...   \n",
       "3           Coffee House         2h  Female  21  Unmarried partner  ...   \n",
       "4           Coffee House         1d  Female  21  Unmarried partner  ...   \n",
       "\n",
       "   CoffeeHouse CarryAway RestaurantLessThan20 Restaurant20To50  \\\n",
       "0        never       NaN                  4~8              1~3   \n",
       "1        never       NaN                  4~8              1~3   \n",
       "2        never       NaN                  4~8              1~3   \n",
       "3        never       NaN                  4~8              1~3   \n",
       "4        never       NaN                  4~8              1~3   \n",
       "\n",
       "  toCoupon_GEQ5min toCoupon_GEQ15min toCoupon_GEQ25min direction_same  \\\n",
       "0                1                 0                 0              0   \n",
       "1                1                 0                 0              0   \n",
       "2                1                 1                 0              0   \n",
       "3                1                 1                 0              0   \n",
       "4                1                 1                 0              0   \n",
       "\n",
       "  direction_opp  Y  \n",
       "0             1  1  \n",
       "1             1  0  \n",
       "2             1  1  \n",
       "3             1  0  \n",
       "4             1  0  \n",
       "\n",
       "[5 rows x 26 columns]"
      ]
     },
     "execution_count": 3,
     "metadata": {},
     "output_type": "execute_result"
    }
   ],
   "source": [
    "df.head()"
   ]
  },
  {
   "cell_type": "code",
   "execution_count": 4,
   "metadata": {},
   "outputs": [
    {
     "name": "stdout",
     "output_type": "stream",
     "text": [
      "Column titles:\n",
      "['destination', 'passanger', 'weather', 'temperature', 'time', 'coupon', 'expiration', 'gender', 'age', 'maritalStatus', 'has_children', 'education', 'occupation', 'income', 'car', 'Bar', 'CoffeeHouse', 'CarryAway', 'RestaurantLessThan20', 'Restaurant20To50', 'toCoupon_GEQ5min', 'toCoupon_GEQ15min', 'toCoupon_GEQ25min', 'direction_same', 'direction_opp', 'Y']\n"
     ]
    }
   ],
   "source": [
    "# Generate the list of column titles\n",
    "column_titles = df.columns.tolist()\n",
    "\n",
    "# Print the list of column titles\n",
    "print(\"Column titles:\")\n",
    "print(column_titles)"
   ]
  },
  {
   "cell_type": "markdown",
   "metadata": {},
   "source": [
    "2. Investigate the dataset for missing or problematic data."
   ]
  },
  {
   "cell_type": "code",
   "execution_count": 5,
   "metadata": {},
   "outputs": [
    {
     "name": "stdout",
     "output_type": "stream",
     "text": [
      "Columns with missing values:\n",
      "car                     12576\n",
      "Bar                       107\n",
      "CoffeeHouse               217\n",
      "CarryAway                 151\n",
      "RestaurantLessThan20      130\n",
      "Restaurant20To50          189\n",
      "dtype: int64\n"
     ]
    }
   ],
   "source": [
    "#Find columns with missing data\n",
    "missing_data = df.isnull().sum()\n",
    "\n",
    "# Print columns with missing values\n",
    "print(\"Columns with missing values:\")\n",
    "print(missing_data[missing_data > 0])"
   ]
  },
  {
   "cell_type": "code",
   "execution_count": 6,
   "metadata": {},
   "outputs": [
    {
     "name": "stdout",
     "output_type": "stream",
     "text": [
      "Columns with problematic values:\n",
      "passanger                4304\n",
      "coupon                   6671\n",
      "education                6203\n",
      "occupation               6981\n",
      "income                  12684\n",
      "car                        21\n",
      "Bar                      3549\n",
      "CoffeeHouse              5009\n",
      "CarryAway                8930\n",
      "RestaurantLessThan20     8956\n",
      "Restaurant20To50         4018\n",
      "dtype: int64\n"
     ]
    }
   ],
   "source": [
    "# Check for problematic data in each column in the dataframe\n",
    "problematic_data = df.select_dtypes(include=['object']).apply(lambda x: x.str.contains('[^A-Za-z0-9\\s]', regex=True).sum())\n",
    "\n",
    "# Display columns with problematic values\n",
    "print(\"Columns with problematic values:\")\n",
    "print(problematic_data[problematic_data > 0])"
   ]
  },
  {
   "cell_type": "code",
   "execution_count": 7,
   "metadata": {},
   "outputs": [
    {
     "name": "stdout",
     "output_type": "stream",
     "text": [
      "Proportion of missing values in the 'car' column: 0.9914853358561968\n"
     ]
    }
   ],
   "source": [
    "# Calculate the proportion of missing values in the \"car\" column\n",
    "missing_proportion = df['car'].isnull().mean()\n",
    "# Display the proportion of missing values\n",
    "print(\"Proportion of missing values in the 'car' column:\", missing_proportion)"
   ]
  },
  {
   "cell_type": "code",
   "execution_count": 8,
   "metadata": {},
   "outputs": [
    {
     "name": "stdout",
     "output_type": "stream",
     "text": [
      "Unique values in the 'car' column:\n",
      "[nan 'Scooter and motorcycle' 'crossover' 'Mazda5' 'do not drive'\n",
      " 'Car that is too old to install Onstar :D']\n"
     ]
    }
   ],
   "source": [
    "# Get unique values in the \"car\" column\n",
    "unique_cars = df['car'].unique()\n",
    "\n",
    "# Print the unique values\n",
    "print(\"Unique values in the 'car' column:\")\n",
    "print(unique_cars)"
   ]
  },
  {
   "cell_type": "code",
   "execution_count": 9,
   "metadata": {},
   "outputs": [
    {
     "name": "stdout",
     "output_type": "stream",
     "text": [
      "Unique values in the 'income' column:\n",
      "['$37500 - $49999' '$62500 - $74999' '$12500 - $24999' '$75000 - $87499'\n",
      " '$50000 - $62499' '$25000 - $37499' '$100000 or More' '$87500 - $99999'\n",
      " 'Less than $12500']\n"
     ]
    }
   ],
   "source": [
    "# Get unique values in the \"income\" column\n",
    "unique_income = df['income'].unique()\n",
    "\n",
    "# Print the unique values\n",
    "print(\"Unique values in the 'income' column:\")\n",
    "print(unique_income)"
   ]
  },
  {
   "cell_type": "markdown",
   "metadata": {},
   "source": [
    "3. Decide what to do about your missing data -- drop, replace, other..."
   ]
  },
  {
   "cell_type": "code",
   "execution_count": 10,
   "metadata": {},
   "outputs": [],
   "source": [
    "# Drop the \"car\"  column\n",
    "df_no_car = df.drop(columns = 'car')\n"
   ]
  },
  {
   "cell_type": "markdown",
   "metadata": {},
   "source": [
    "4. What proportion of the total observations chose to accept the coupon? \n",
    "\n"
   ]
  },
  {
   "cell_type": "code",
   "execution_count": 11,
   "metadata": {},
   "outputs": [
    {
     "name": "stdout",
     "output_type": "stream",
     "text": [
      "Proportion of accepted coupons: 1.0\n"
     ]
    }
   ],
   "source": [
    "# Count the number of observations where the coupon is accepted\n",
    "accepted = (df['Y'] == '1').count()\n",
    "\n",
    "# Calculate the proportion of accepted coupons\n",
    "proportion_accepted = accepted / (df['Y']).count()\n",
    "\n",
    "# Display the proportion of accepted coupons\n",
    "print(\"Proportion of accepted coupons:\", proportion_accepted)"
   ]
  },
  {
   "cell_type": "markdown",
   "metadata": {},
   "source": [
    "5. Use a bar plot to visualize the `coupon` column."
   ]
  },
  {
   "cell_type": "code",
   "execution_count": 12,
   "metadata": {},
   "outputs": [
    {
     "data": {
      "image/png": "[encoded data removed]",
      "text/plain": [
       "<Figure size 640x480 with 1 Axes>"
      ]
     },
     "metadata": {},
     "output_type": "display_data"
    }
   ],
   "source": [
    "# Count the frequency of each coupon value\n",
    "coupon_counts = df['coupon'].value_counts()\n",
    "\n",
    "# Create a bar plot\n",
    "plt.bar(coupon_counts.index, coupon_counts.values)\n",
    "\n",
    "# Set the plot title and labels\n",
    "plt.title('Coupon Types')\n",
    "plt.xlabel('Coupon')\n",
    "plt.ylabel('Count')\n",
    "plt.xticks(rotation=45)\n",
    "\n",
    "\n",
    "# Display the plot\n",
    "plt.show()"
   ]
  },
  {
   "cell_type": "markdown",
   "metadata": {},
   "source": [
    "6. Use a histogram to visualize the temperature column."
   ]
  },
  {
   "cell_type": "code",
   "execution_count": 13,
   "metadata": {},
   "outputs": [
    {
     "data": {
      "image/png": "[encoded data removed]",
      "text/plain": [
       "<Figure size 640x480 with 1 Axes>"
      ]
     },
     "metadata": {},
     "output_type": "display_data"
    }
   ],
   "source": [
    "# Extract the \"temperature\" column\n",
    "temperature_data = df['temperature']\n",
    "\n",
    "# Create a histogram\n",
    "plt.hist(temperature_data, bins=7, edgecolor='black')\n",
    "\n",
    "# Set the plot title and labels\n",
    "plt.title('Temperature Distribution')\n",
    "plt.xlabel('Temperature')\n",
    "plt.ylabel('Count')\n",
    "\n",
    "# Display the plot\n",
    "plt.show()"
   ]
  },
  {
   "cell_type": "markdown",
   "metadata": {},
   "source": [
    "**Investigating the Bar Coupons**\n",
    "\n",
    "Now, we will lead you through an exploration of just the bar related coupons.  \n",
    "\n",
    "1. Create a new `DataFrame` that contains just the bar coupons.\n"
   ]
  },
  {
   "cell_type": "code",
   "execution_count": 14,
   "metadata": {},
   "outputs": [
    {
     "name": "stdout",
     "output_type": "stream",
     "text": [
      "        destination  passanger weather  temperature  time coupon expiration  \\\n",
      "9   No Urgent Place     Kid(s)   Sunny           80  10AM    Bar         1d   \n",
      "13             Home      Alone   Sunny           55   6PM    Bar         1d   \n",
      "17             Work      Alone   Sunny           55   7AM    Bar         1d   \n",
      "24  No Urgent Place  Friend(s)   Sunny           80  10AM    Bar         1d   \n",
      "35             Home      Alone   Sunny           55   6PM    Bar         1d   \n",
      "\n",
      "    gender age      maritalStatus  ...  CoffeeHouse CarryAway  \\\n",
      "9   Female  21  Unmarried partner  ...        never       NaN   \n",
      "13  Female  21  Unmarried partner  ...        never       NaN   \n",
      "17  Female  21  Unmarried partner  ...        never       NaN   \n",
      "24    Male  21             Single  ...        less1       4~8   \n",
      "35    Male  21             Single  ...        less1       4~8   \n",
      "\n",
      "   RestaurantLessThan20 Restaurant20To50 toCoupon_GEQ5min toCoupon_GEQ15min  \\\n",
      "9                   4~8              1~3                1                 1   \n",
      "13                  4~8              1~3                1                 0   \n",
      "17                  4~8              1~3                1                 1   \n",
      "24                  4~8            less1                1                 0   \n",
      "35                  4~8            less1                1                 0   \n",
      "\n",
      "   toCoupon_GEQ25min direction_same direction_opp  Y  \n",
      "9                  0              0             1  0  \n",
      "13                 0              1             0  1  \n",
      "17                 1              0             1  0  \n",
      "24                 0              0             1  1  \n",
      "35                 0              1             0  1  \n",
      "\n",
      "[5 rows x 26 columns]\n"
     ]
    }
   ],
   "source": [
    "# Create a new DataFrame with only \"bar\" coupons\n",
    "bar_coupons_df = df.loc[df['coupon'] == 'Bar']\n",
    "\n",
    "# Display the new DataFrame\n",
    "print(bar_coupons_df.head())"
   ]
  },
  {
   "cell_type": "markdown",
   "metadata": {},
   "source": [
    "2. What proportion of bar coupons were accepted?\n"
   ]
  },
  {
   "cell_type": "code",
   "execution_count": 15,
   "metadata": {},
   "outputs": [
    {
     "name": "stdout",
     "output_type": "stream",
     "text": [
      "Proportion of accepted bar coupons: 1.0\n"
     ]
    }
   ],
   "source": [
    "# Calculate the proportion of accepted \"bar\" coupons\n",
    "accepted_count = (bar_coupons_df['Y'] == \"1\").count()\n",
    "total_count = bar_coupons_df['Y'].count()\n",
    "proportion_accepted = accepted_count / total_count\n",
    "\n",
    "# Display the proportion of accepted \"bar\" coupons\n",
    "print(\"Proportion of accepted bar coupons:\", proportion_accepted)"
   ]
  },
  {
   "cell_type": "markdown",
   "metadata": {},
   "source": [
    "3. Compare the acceptance rate between those who went to a bar 3 or fewer times a month to those who went more.\n"
   ]
  },
  {
   "cell_type": "code",
   "execution_count": 16,
   "metadata": {},
   "outputs": [
    {
     "name": "stdout",
     "output_type": "stream",
     "text": [
      "Acceptance rate for 3 times or less bar goers per month: 0\n",
      "Acceptance rate for 3 times or more bar goers per month:: 10104\n"
     ]
    }
   ],
   "source": [
    "# Create a DataFrame for individuals who went to a bar 3 or fewer times a month\n",
    "less_than_3_times_df = df[df['Bar'] <=' 3']\n",
    "\n",
    "# Create a DataFrame for individuals who went to a bar more than 3 times a month\n",
    "more_than_3_times_df = df[df['Bar'] > '3']\n",
    "\n",
    "# Calculate the acceptance rate for each group\n",
    "less_than_3_times_accepted = (less_than_3_times_df['Y'] == '1').count()\n",
    "more_than_3_times_accepted = (more_than_3_times_df['Y'] == '1').count()\n",
    "\n",
    "# Compare the acceptance rates\n",
    "print(\"Acceptance rate for 3 times or less bar goers per month:\", less_than_3_times_accepted)\n",
    "print(\"Acceptance rate for 3 times or more bar goers per month::\", more_than_3_times_accepted)"
   ]
  },
  {
   "cell_type": "markdown",
   "metadata": {},
   "source": [
    "4. Compare the acceptance rate between drivers who go to a bar more than once a month and are over the age of 25 to the all others.  Is there a difference?\n"
   ]
  },
  {
   "cell_type": "code",
   "execution_count": 17,
   "metadata": {},
   "outputs": [
    {
     "name": "stdout",
     "output_type": "stream",
     "text": [
      "Acceptance rate for drivers older than 25 who go to a bar motre than once a month: 9930\n",
      "Acceptance rate for the rest of the drivers: 2653\n"
     ]
    }
   ],
   "source": [
    "# Create a DataFrame for drivers who go to a bar more than once a month and are over the age of 25\n",
    "group1_df = df[(df['Bar'] > '1') & (df['age'] > '25')]\n",
    "\n",
    "# Create a DataFrame for the rest of the drivers\n",
    "group2_df = df[(df['Bar'] <= '1') | (df['age'] <= '25')]\n",
    "\n",
    "# Calculate the acceptance rate for each group\n",
    "group1_accept = (group1_df['Y'] == '1').count()\n",
    "group2_accept = (group2_df['Y'] == '1').count()\n",
    "\n",
    "# Compare the acceptance rates\n",
    "print(\"Acceptance rate for drivers older than 25 who go to a bar motre than once a month:\", group1_accept)\n",
    "print(\"Acceptance rate for the rest of the drivers:\", group2_accept)"
   ]
  },
  {
   "cell_type": "markdown",
   "metadata": {},
   "source": [
    "5. Use the same process to compare the acceptance rate between drivers who go to bars more than once a month and had passengers that were not a kid and had occupations other than farming, fishing, or forestry. \n"
   ]
  },
  {
   "cell_type": "code",
   "execution_count": 18,
   "metadata": {},
   "outputs": [
    {
     "name": "stdout",
     "output_type": "stream",
     "text": [
      "Acceptance rate for studied group : 12577\n",
      "Acceptance rate for the rest of the drivers: 0\n"
     ]
    }
   ],
   "source": [
    "# Create a DataFrame for drivers who go to bars more than once a month and had passengers that were not kids and had occupations other than farming, fishing, or forestry\n",
    "group1_df = df[(df['Bar'] > '1') & ~(df['passanger'] =='kid') & ~(df['occupation'].isin(['farming', 'fishing', 'forestry']))]\n",
    "\n",
    "# Create a DataFrame for the rest of the drivers\n",
    "group2_df = df[(df['Bar'] > '1') & (df['passanger'] =='kid')]\n",
    "\n",
    "# Calculate the acceptance rate for each group\n",
    "group1_accepted = (group1_df['Y'] == '1').count()\n",
    "group2_accepted = (group2_df['Y'] == '1').count()\n",
    "\n",
    "# Compare the acceptance rates\n",
    "print(\"Acceptance rate for studied group :\", group1_accepted)\n",
    "print(\"Acceptance rate for the rest of the drivers:\", group2_accepted)"
   ]
  },
  {
   "cell_type": "markdown",
   "metadata": {},
   "source": [
    "6. Compare the acceptance rates between those drivers who:\n",
    "\n",
    "- go to bars more than once a month, had passengers that were not a kid, and were not widowed *OR*\n",
    "- go to bars more than once a month and are under the age of 30 *OR*\n",
    "- go to cheap restaurants more than 4 times a month and income is less than 50K. \n",
    "\n"
   ]
  },
  {
   "cell_type": "code",
   "execution_count": 19,
   "metadata": {},
   "outputs": [
    {
     "name": "stdout",
     "output_type": "stream",
     "text": [
      "Acceptance rate for Group 1: 12577\n",
      "Acceptance rate for Group 2: 5194\n",
      "Acceptance rate for Group 3: 6477\n"
     ]
    }
   ],
   "source": [
    "# Create a DataFrame for group 1 \n",
    "group1_df = df[(df['Bar'] > '1') & (~df['passanger'].isin(['kid'])) & (~df['maritalStatus'].isin(['widowed']))]\n",
    "# Create a DataFrame for group 2\n",
    "group2_df = df[(df['Bar'] > '1') & (df['age'] < '30')]\n",
    "\n",
    "# Create a DataFrame for group 3\n",
    "group3_df = df[(df['RestaurantLessThan20'] > '4') & (df['income'] < '50000')]\n",
    "\n",
    "# Calculate the acceptance rate for each group\n",
    "group1_accepted = (group1_df['Y'] == '1').count()\n",
    "group2_accepted = (group2_df['Y'] == '1').count()\n",
    "group3_accepted = (group3_df['Y'] == '1').count()\n",
    "\n",
    "# Compare the acceptance rates\n",
    "print(\"Acceptance rate for Group 1:\", group1_accepted)\n",
    "print(\"Acceptance rate for Group 2:\", group2_accepted)\n",
    "print(\"Acceptance rate for Group 3:\", group3_accepted)"
   ]
  },
  {
   "cell_type": "code",
   "execution_count": 20,
   "metadata": {},
   "outputs": [
    {
     "name": "stdout",
     "output_type": "stream",
     "text": [
      "Acceptance rate for Group 1: 12577\n",
      "Acceptance rate for Group 2: 11541\n"
     ]
    }
   ],
   "source": [
    "# Create a DataFrame for group 1 \n",
    "group1_df = df[(df['Bar'] > '1') & (~df['maritalStatus'].isin(['widowed']))]\n",
    "# Create a DataFrame for group 2\n",
    "group2_df = df[(df['Bar'] > '1')  & (df['income'] < '50000')]\n",
    "\n",
    "\n",
    "\n",
    "# Calculate the acceptance rate for each group\n",
    "group1_accepted = (group1_df['Y'] == '1').count()\n",
    "group2_accepted = (group2_df['Y'] == '1').count()\n",
    "\n",
    "\n",
    "# Compare the acceptance rates\n",
    "print(\"Acceptance rate for Group 1:\", group1_accepted)\n",
    "print(\"Acceptance rate for Group 2:\", group2_accepted)\n"
   ]
  },
  {
   "cell_type": "markdown",
   "metadata": {},
   "source": [
    "7.  Based on these observations, what do you hypothesize about drivers who accepted the bar coupons?"
   ]
  },
  {
   "cell_type": "markdown",
   "metadata": {},
   "source": [
    "#### Based on the above calculations we can conclude that:\n",
    "1. most drivers who accept bar coupons go to bars more than once a month\n",
    "2. they accept coupons to bars when they drive with passengers other than kids in the car\n",
    "3. almost half of those drivers accepting bar coupons are younger than 40 years old\n",
    "4. most of the drivers who accept a bar coupon and attend a bar more than once per month make less than $50k per year"
   ]
  },
  {
   "cell_type": "markdown",
   "metadata": {},
   "source": [
    "### Independent Investigation\n",
    "\n",
    "Using the bar coupon example as motivation, you are to explore one of the other coupon groups and try to determine the characteristics of passengers who accept the coupons.  "
   ]
  },
  {
   "cell_type": "markdown",
   "metadata": {},
   "source": [
    "#### How many drivers accept coupons to restaurants that cost between $20 - $50?\n",
    "\n"
   ]
  },
  {
   "cell_type": "code",
   "execution_count": 21,
   "metadata": {},
   "outputs": [
    {
     "name": "stdout",
     "output_type": "stream",
     "text": [
      "Drivers who accept expensive restaurant coupons :  1492\n"
     ]
    }
   ],
   "source": [
    "#Create data frame to showcase only those drivers who accepted a coupon to an expensive restaurant\n",
    "rest_coupons_df = df.loc[df['coupon'] == 'Restaurant(20-50)']\n",
    "\n",
    "#Calculate how many accepted\n",
    "accepted_count = (rest_coupons_df['Y'] == \"1\").count()\n",
    "print(\"Drivers who accept expensive restaurant coupons : \", accepted_count)"
   ]
  },
  {
   "cell_type": "markdown",
   "metadata": {},
   "source": [
    "##### Compare the acceptance rates between those drivers who:\n",
    "1.go to restaurants more than once a month, had passengers that are a kid, and were not widowed OR\n",
    "\n",
    "2.go to restaurant more than once a month and are older than 25 OR\n",
    "\n",
    "3.go to restaurants more than 4 times a month and income is greater than $100000 OR\n",
    "\n",
    "4.go to restaurants more than 4 times a month and income is less than $100000 OR"
   ]
  },
  {
   "cell_type": "code",
   "execution_count": 22,
   "metadata": {},
   "outputs": [
    {
     "name": "stdout",
     "output_type": "stream",
     "text": [
      "Acceptance rate for Group 1: 0\n",
      "Acceptance rate for Group 2: 7277\n",
      "Acceptance rate for Group 3: 877\n",
      "Acceptance rate for Group 4: 8328\n"
     ]
    }
   ],
   "source": [
    "# Create a DataFrame for group 1 \n",
    "group1_df = df[(df['Restaurant20To50'] > '1') & (df['passanger'].isin(['kid']))]\n",
    "\n",
    "# Create a DataFrame for group 2\n",
    "group2_df = df[(df['Restaurant20To50'] > '4') & (df['age'] > '25')]\n",
    "\n",
    "# Create a DataFrame for group 3\n",
    "group3_df = df[(df['Restaurant20To50'] > '4') & (df['income'] > '100000')]\n",
    "\n",
    "# Create a DataFrame for group 4\n",
    "group4_df = df[(df['Restaurant20To50'] > '4') & (df['income'] < '100000')]\n",
    "\n",
    "# Calculate the acceptance rate for each group\n",
    "group1_accepted = (group1_df['Y'] == '1').count()\n",
    "group2_accepted = (group2_df['Y'] == '1').count()\n",
    "group3_accepted = (group3_df['Y'] == '1').count()\n",
    "group4_accepted = (group4_df['Y'] == '1').count()\n",
    "# Compare the acceptance rates\n",
    "print(\"Acceptance rate for Group 1:\", group1_accepted)\n",
    "print(\"Acceptance rate for Group 2:\", group2_accepted)\n",
    "print(\"Acceptance rate for Group 3:\", group3_accepted)\n",
    "print(\"Acceptance rate for Group 4:\", group4_accepted)\n"
   ]
  },
  {
   "cell_type": "markdown",
   "metadata": {},
   "source": [
    "#Compare acceptance rate for those who go to restaurants more than 3 times per month as opposed to those who go less. "
   ]
  },
  {
   "cell_type": "code",
   "execution_count": 23,
   "metadata": {},
   "outputs": [
    {
     "name": "stdout",
     "output_type": "stream",
     "text": [
      "Acceptance rate for 3 times or less expensive restaurant goers per month: 3290\n",
      "Acceptance rate for 3 times or more expensive restaurant goers per month:: 9205\n"
     ]
    }
   ],
   "source": [
    "# Create a DataFrame for individuals who went to an expensve restaurant 2 or fewer times a month\n",
    "less_than_3_times_df = df[df['Restaurant20To50'] <='3']\n",
    "\n",
    "# Create a DataFrame for individuals who went to a bar more than 3 times a month\n",
    "more_than_3_times_df = df[df['Restaurant20To50'] > '3']\n",
    "\n",
    "# Calculate the acceptance rate for each group\n",
    "less_than_3_times_accepted = (less_than_3_times_df['Y'] == '1').count()\n",
    "more_than_3_times_accepted = (more_than_3_times_df['Y'] == '1').count()\n",
    "\n",
    "# Compare the acceptance rates\n",
    "print(\"Acceptance rate for 3 times or less expensive restaurant goers per month:\", less_than_3_times_accepted)\n",
    "print(\"Acceptance rate for 3 times or more expensive restaurant goers per month::\", more_than_3_times_accepted)"
   ]
  },
  {
   "cell_type": "markdown",
   "metadata": {},
   "source": [
    "#### Based on the above calculations we can conclude that:\n",
    "1. most drivers who accept expensive restaurant coupons go to expensive restaurants more than 3 times per month\n",
    "2. none of the rivers who go more than 1 times per month at expensive restaurant accept coupons when driving with kids in the car\n",
    "3. most of the drivers who go 4 times or more a month to restaurants are older than 25 and make less than $100k per year\n"
   ]
  },
  {
   "cell_type": "code",
   "execution_count": null,
   "metadata": {},
   "outputs": [],
   "source": []
  }
 ],
 "metadata": {
  "kernelspec": {
   "display_name": "Python 3 (ipykernel)",
   "language": "python",
   "name": "python3"
  },
  "language_info": {
   "codemirror_mode": {
    "name": "ipython",
    "version": 3
   },
   "file_extension": ".py",
   "mimetype": "text/x-python",
   "name": "python",
   "nbconvert_exporter": "python",
   "pygments_lexer": "ipython3",
   "version": "3.11.4"
  },
  "widgets": {
   "application/vnd.jupyter.widget-state+json": {
    "state": {},
    "version_major": 2,
    "version_minor": 0
   }
  }
 },
 "nbformat": 4,
 "nbformat_minor": 4
}
